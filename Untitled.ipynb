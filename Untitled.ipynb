{
 "cells": [
  {
   "cell_type": "code",
   "execution_count": 19,
   "id": "f6b3d33f",
   "metadata": {},
   "outputs": [],
   "source": [
    "import numpy\n",
    "import scipy.special"
   ]
  },
  {
   "cell_type": "code",
   "execution_count": 29,
   "id": "b006d308",
   "metadata": {},
   "outputs": [],
   "source": [
    "class neuralNetwork:\n",
    "    def __init__(self, input_nodes, hidden_nodes, output_nodes, learning_rate):\n",
    "        #initalising the size of the network\n",
    "        self.inodes = input_nodes\n",
    "        self.hnodes = hidden_nodes\n",
    "        self.onodes = output_nodes\n",
    "        #learning rate of the network\n",
    "        self.lr = learning_rate\n",
    "        #initializing weight matrix\n",
    "        self.wih = numpy.random.normal(0.0, pow(self.hnodes, -0.5), (self.hnodes, self.inodes))\n",
    "        self.who = numpy.random.normal(0.0, pow(self.onodes, -0.5), (self.onodes, self.hnodes))\n",
    "        self.activation_function = lambda x: scipy.special.expit(x)\n",
    "        pass\n",
    "    \n",
    "    def train():\n",
    "        pass\n",
    "    \n",
    "    def query(self, inputs_list):\n",
    "        #calculating the hidden layer\n",
    "        inputs = numpy.array(inputs_list, ndmin=2).T\n",
    "        print(inputs)\n",
    "        hidden_inputs = numpy.dot(self.wih, inputs)\n",
    "        hidden_outputs = self.activation_function(hidden_inputs)\n",
    "        \n",
    "        final_inputs = numpy.dot(self.who, hidden_outputs)\n",
    "        final_outputs = self.activation_function(final_inputs)\n",
    "        return final_outputs\n",
    "        \n",
    "        \n",
    "    "
   ]
  },
  {
   "cell_type": "code",
   "execution_count": 30,
   "id": "2b389448",
   "metadata": {},
   "outputs": [
    {
     "name": "stdout",
     "output_type": "stream",
     "text": [
      "3\n",
      "[[ 0.02963688  0.03923123 -0.58503969]\n",
      " [-0.51901259 -0.39456576  0.20903123]\n",
      " [ 0.0441278  -0.81676126 -0.76100896]]\n",
      "[[-0.72500147 -0.09472885  0.02925317]\n",
      " [-0.2834508  -0.98169818  1.02366212]\n",
      " [-0.32794989  0.4270393   0.26619109]]\n",
      "[[ 1. ]\n",
      " [ 0.5]\n",
      " [-1.5]]\n"
     ]
    },
    {
     "data": {
      "text/plain": [
       "array([[0.37184849],\n",
       "       [0.5596961 ],\n",
       "       [0.51493868]])"
      ]
     },
     "execution_count": 30,
     "metadata": {},
     "output_type": "execute_result"
    }
   ],
   "source": [
    "n = neuralNetwork(3,3,3,0.3)\n",
    "print(n.inodes)\n",
    "print(n.wih)\n",
    "print(n.who)\n",
    "n.query([1.0, 0.5, -1.5])"
   ]
  },
  {
   "cell_type": "code",
   "execution_count": null,
   "id": "e1095e87",
   "metadata": {},
   "outputs": [],
   "source": []
  }
 ],
 "metadata": {
  "kernelspec": {
   "display_name": "Python 3 (ipykernel)",
   "language": "python",
   "name": "python3"
  },
  "language_info": {
   "codemirror_mode": {
    "name": "ipython",
    "version": 3
   },
   "file_extension": ".py",
   "mimetype": "text/x-python",
   "name": "python",
   "nbconvert_exporter": "python",
   "pygments_lexer": "ipython3",
   "version": "3.9.7"
  }
 },
 "nbformat": 4,
 "nbformat_minor": 5
}
