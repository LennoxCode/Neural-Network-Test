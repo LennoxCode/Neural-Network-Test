{
 "cells": [
  {
   "cell_type": "code",
   "execution_count": 7,
   "id": "66d0293f",
   "metadata": {},
   "outputs": [],
   "source": [
    "import numpy"
   ]
  },
  {
   "cell_type": "code",
   "execution_count": 8,
   "id": "ad2e61f3",
   "metadata": {},
   "outputs": [],
   "source": [
    "class neuralNetwork:\n",
    "    def __init__(self, input_nodes, hidden_nodes, output_nodes, learning_rate):\n",
    "        #initalising the size of the network\n",
    "        self.inodes = input_nodes\n",
    "        self.hnodes = hidden_nodes\n",
    "        self.onodes = output_nodes\n",
    "        #learning rate of the network\n",
    "        self.lr = learning_rate\n",
    "        #initializing weight matrix\n",
    "        self.wih = (numpy.random.rand(self.hnodes, self.inodes) - 0.5)\n",
    "        self.who = (numpy.random.rand(self.onodes, self.hnodes) - 0.5)\n",
    "        pass\n",
    "    \n",
    "    def train():\n",
    "        pass\n",
    "    \n",
    "    def query():\n",
    "        pass\n",
    "    "
   ]
  },
  {
   "cell_type": "code",
   "execution_count": 9,
   "id": "e6fbc06b",
   "metadata": {},
   "outputs": [
    {
     "name": "stdout",
     "output_type": "stream",
     "text": [
      "3\n",
      "[[ 0.44925596 -0.37802978  0.49664967]\n",
      " [-0.2456106  -0.43295634  0.14973565]\n",
      " [-0.1806698   0.48398513 -0.08118383]]\n",
      "[[ 0.39626583  0.39197028  0.15774735]\n",
      " [-0.21788938  0.36706955  0.31472611]\n",
      " [ 0.0992262   0.43218862  0.34944785]]\n"
     ]
    }
   ],
   "source": [
    "n = neuralNetwork(3,3,3,0.3)\n",
    "print(n.inodes)\n",
    "print(n.wih)\n",
    "print(n.who)"
   ]
  },
  {
   "cell_type": "code",
   "execution_count": null,
   "id": "99a628fa",
   "metadata": {},
   "outputs": [],
   "source": []
  }
 ],
 "metadata": {
  "kernelspec": {
   "display_name": "Python 3 (ipykernel)",
   "language": "python",
   "name": "python3"
  },
  "language_info": {
   "codemirror_mode": {
    "name": "ipython",
    "version": 3
   },
   "file_extension": ".py",
   "mimetype": "text/x-python",
   "name": "python",
   "nbconvert_exporter": "python",
   "pygments_lexer": "ipython3",
   "version": "3.9.7"
  }
 },
 "nbformat": 4,
 "nbformat_minor": 5
}
